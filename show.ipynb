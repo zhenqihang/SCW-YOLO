{
 "cells": [
  {
   "cell_type": "markdown",
   "metadata": {},
   "source": [
    "# Efficient cross scale fusion network SCW-YOLO for object detection in remote sensing imagery"
   ]
  },
  {
   "cell_type": "markdown",
   "metadata": {},
   "source": [
    "## ABSTRACT\n",
    "Traditional object detection algorithms often struggle to detect small objects in remote sensing images because of their small size and complex backgrounds. To address this, We propose a high performance remote sensing image object detection model SCW-YOLO based on the YOLOv8 model. Firstly, the model incorporated an Efficient Cross Scale Feature Pyramid Network (ECFPN) to enabled richer feature fusion without increasing computational costs caused by continuous downsampling by adding a new feature layer to the shallow network and directly outputting the backbone network features to the detection head. Additionally, a coordinate attention mechanism was employed to refine the backbone network by locally enhancing the features and reducing interference from redundant information. Finally, to further improve bounding box loss fitting and accelerate network convergence, a dynamic non-monotonic Wise-IoU (WIOU) loss function was introduced to replace the loss function of baseline. The experimental results indicated that SCW-YOLO outperformed most state-of-the-art (SOTA) models in parameter efficiency and small-object detection accuracy, confirming its robustness in detecting small targets in remote sensing images."
   ]
  },
  {
   "cell_type": "markdown",
   "metadata": {},
   "source": [
    "## Setup\n",
    "Download [YOLOv8]{https://github.com/ultralytics/ultralytics/tree/v8.1.6} code. Pip install ultralytics and dependencies and check software and hardware."
   ]
  },
  {
   "cell_type": "code",
   "execution_count": null,
   "metadata": {},
   "outputs": [],
   "source": [
    "%pip install ultralytics\n",
    "import ultralytics\n",
    "\n",
    "ultralytics.checks()"
   ]
  },
  {
   "cell_type": "markdown",
   "metadata": {},
   "source": [
    "## ECFPN\n",
    "The neck structure is displayed as follows.\n",
    "\n",
    "  - [-1, 1, nn.Upsample, [None, 2, 'nearest']]\n",
    "  - [[-1, 4], 1, Concat, [1]]  \n",
    "  - [-1, 3, C2f, [256]] \n",
    "\n",
    "  - [-1, 1, nn.Upsample, [None, 2, 'nearest']]\n",
    "  - [[-1, 2], 1, Concat, [1]]  \n",
    "  - [-1, 3, C2f, [128]]  \n",
    "\n",
    "  - [-1, 1, Conv, [128, 3, 2]]\n",
    "  - [[-1, 10, 4], 1, Concat, [1]]  \n",
    "  - [-1, 3, C2f, [256]]  \n",
    "\n",
    "  - [-1, 1, Conv, [256, 3, 2]]\n",
    "  - [[-1, 7], 1, Concat, [1]]  \n",
    "  - [-1, 3, C2f, [512]]  \n",
    "\n",
    "  - [[13, 16, 19], 1, Detect, [nc]]  # Detect(P2, P3, P4)"
   ]
  },
  {
   "cell_type": "markdown",
   "metadata": {},
   "source": [
    "## Backbone Enhance\n",
    "The backbone structure is displayed as follows.\n",
    "\n",
    "backbone:\n",
    "  - [-1, 1, Conv, [64, 3, 2]]  \n",
    "  - [-1, 1, Conv, [128, 3, 2]]  \n",
    "  - [-1, 3, C2f, [128, True]]\n",
    "  - [-1, 1, Conv, [256, 3, 2]]  \n",
    "  - [-1, 1, C2f_CooreA, [256, True]]\n",
    "  - [-1, 1, Conv, [512, 3, 2]]  \n",
    "  - [-1, 1, C2f_CooreA, [512, True]]\n",
    "  - [-1, 1, SPPF, [512, 5]]"
   ]
  },
  {
   "cell_type": "markdown",
   "metadata": {},
   "source": [
    "## WIOU\n",
    "Replace the original bbox_iou function with the loss. py function in the modules file."
   ]
  },
  {
   "cell_type": "markdown",
   "metadata": {},
   "source": [
    "Similarly, the contents of the block.cy file in the modules file were added to the corresponding block.py file."
   ]
  },
  {
   "cell_type": "markdown",
   "metadata": {},
   "source": [
    "## Dataset\n",
    "Download the dataset and place it in a location you know. Refer to the data.yaml file."
   ]
  },
  {
   "cell_type": "markdown",
   "metadata": {},
   "source": [
    "## Training\n"
   ]
  },
  {
   "cell_type": "code",
   "execution_count": null,
   "metadata": {},
   "outputs": [],
   "source": [
    "from ultralytics import YOLO\n",
    "\n",
    "if __name__ =='__main__':\n",
    "\n",
    "    data = \"data.yaml\"\n",
    "\n",
    "    model = YOLO('scw-yolo.yaml')\n",
    "    model.train(data=data, epochs=200, imgsz=640, batch=8)\n"
   ]
  }
 ],
 "metadata": {
  "kernelspec": {
   "display_name": "venv",
   "language": "python",
   "name": "python3"
  },
  "language_info": {
   "codemirror_mode": {
    "name": "ipython",
    "version": 3
   },
   "file_extension": ".py",
   "mimetype": "text/x-python",
   "name": "python",
   "nbconvert_exporter": "python",
   "pygments_lexer": "ipython3",
   "version": "3.7.16"
  }
 },
 "nbformat": 4,
 "nbformat_minor": 2
}
